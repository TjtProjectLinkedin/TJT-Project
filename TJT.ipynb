{
 "cells": [
  {
   "cell_type": "code",
   "execution_count": 1,
   "metadata": {},
   "outputs": [
    {
     "name": "stderr",
     "output_type": "stream",
     "text": [
      "[nltk_data] Downloading package stopwords to\n",
      "[nltk_data]     C:\\Users\\HP\\AppData\\Roaming\\nltk_data...\n",
      "[nltk_data]   Package stopwords is already up-to-date!\n"
     ]
    }
   ],
   "source": [
    "import matplotlib.pyplot as plt\n",
    "%matplotlib inline\n",
    "import seaborn as sns\n",
    "import nltk\n",
    "import string\n",
    "from nltk.corpus import stopwords\n",
    "import os, random, sys, time\n",
    "from urllib.parse import urlparse\n",
    "from selenium import webdriver\n",
    "from bs4 import BeautifulSoup\n",
    "import time\n",
    "import pandas as pd\n",
    "import numpy as np\n",
    "import re\n",
    "#nltk.download('stopwords')\n",
    "from nltk.corpus import stopwords\n",
    "from nltk.stem.porter import PorterStemmer\n",
    "from nltk.tokenize import RegexpTokenizer\n",
    "#nltk.download('wordnet') \n",
    "from sklearn.feature_extraction.text import CountVectorizer\n",
    "from nltk.stem.wordnet import WordNetLemmatizer"
   ]
  },
  {
   "cell_type": "code",
   "execution_count": 4,
   "metadata": {},
   "outputs": [],
   "source": [
    "df1 = pd.DataFrame(pd.read_excel('TJT_datasets.xlsx'))"
   ]
  },
  {
   "cell_type": "code",
   "execution_count": 5,
   "metadata": {},
   "outputs": [
    {
     "data": {
      "text/html": [
       "<div>\n",
       "<style scoped>\n",
       "    .dataframe tbody tr th:only-of-type {\n",
       "        vertical-align: middle;\n",
       "    }\n",
       "\n",
       "    .dataframe tbody tr th {\n",
       "        vertical-align: top;\n",
       "    }\n",
       "\n",
       "    .dataframe thead th {\n",
       "        text-align: right;\n",
       "    }\n",
       "</style>\n",
       "<table border=\"1\" class=\"dataframe\">\n",
       "  <thead>\n",
       "    <tr style=\"text-align: right;\">\n",
       "      <th></th>\n",
       "      <th>JID</th>\n",
       "      <th>Jcompany</th>\n",
       "      <th>Jposition</th>\n",
       "      <th>Jdesc</th>\n",
       "      <th>Jlocation</th>\n",
       "      <th>Jfunction</th>\n",
       "      <th>Jkeywords</th>\n",
       "      <th>Jtkey</th>\n",
       "    </tr>\n",
       "  </thead>\n",
       "  <tbody>\n",
       "    <tr>\n",
       "      <th>0</th>\n",
       "      <td>12</td>\n",
       "      <td>Freshworks</td>\n",
       "      <td>Senior Product Manager</td>\n",
       "      <td>Freshworks Inc. is the parent company behind t...</td>\n",
       "      <td>Chennai, India</td>\n",
       "      <td>Product Management</td>\n",
       "      <td>Customer-facing teams, leadership team,owner</td>\n",
       "      <td>NaN</td>\n",
       "    </tr>\n",
       "    <tr>\n",
       "      <th>1</th>\n",
       "      <td>19</td>\n",
       "      <td>ServiceNow</td>\n",
       "      <td>Senior Product Manager- Analytics</td>\n",
       "      <td>Company\\n\\nWork matters. It’s where we spend a...</td>\n",
       "      <td>Hyderabad, IN</td>\n",
       "      <td>Product Management</td>\n",
       "      <td>Performance Analytics,  Reporting team</td>\n",
       "      <td>NaN</td>\n",
       "    </tr>\n",
       "  </tbody>\n",
       "</table>\n",
       "</div>"
      ],
      "text/plain": [
       "   JID    Jcompany                          Jposition  \\\n",
       "0   12  Freshworks             Senior Product Manager   \n",
       "1   19  ServiceNow  Senior Product Manager- Analytics   \n",
       "\n",
       "                                               Jdesc       Jlocation  \\\n",
       "0  Freshworks Inc. is the parent company behind t...  Chennai, India   \n",
       "1  Company\\n\\nWork matters. It’s where we spend a...   Hyderabad, IN   \n",
       "\n",
       "            Jfunction                                     Jkeywords  Jtkey  \n",
       "0  Product Management  Customer-facing teams, leadership team,owner    NaN  \n",
       "1  Product Management        Performance Analytics,  Reporting team    NaN  "
      ]
     },
     "execution_count": 5,
     "metadata": {},
     "output_type": "execute_result"
    }
   ],
   "source": [
    "df1.head()"
   ]
  },
  {
   "cell_type": "code",
   "execution_count": 6,
   "metadata": {},
   "outputs": [
    {
     "data": {
      "text/html": [
       "<div>\n",
       "<style scoped>\n",
       "    .dataframe tbody tr th:only-of-type {\n",
       "        vertical-align: middle;\n",
       "    }\n",
       "\n",
       "    .dataframe tbody tr th {\n",
       "        vertical-align: top;\n",
       "    }\n",
       "\n",
       "    .dataframe thead th {\n",
       "        text-align: right;\n",
       "    }\n",
       "</style>\n",
       "<table border=\"1\" class=\"dataframe\">\n",
       "  <thead>\n",
       "    <tr style=\"text-align: right;\">\n",
       "      <th></th>\n",
       "      <th>JID</th>\n",
       "      <th>Jcompany</th>\n",
       "      <th>Jposition</th>\n",
       "      <th>Jdesc</th>\n",
       "      <th>Jlocation</th>\n",
       "      <th>Jfunction</th>\n",
       "      <th>Jkeywords</th>\n",
       "      <th>Jtkey</th>\n",
       "    </tr>\n",
       "  </thead>\n",
       "  <tbody>\n",
       "    <tr>\n",
       "      <th>0</th>\n",
       "      <td>NaN</td>\n",
       "      <td>NaN</td>\n",
       "      <td>NaN</td>\n",
       "      <td>NaN</td>\n",
       "      <td>NaN</td>\n",
       "      <td>NaN</td>\n",
       "      <td>NaN</td>\n",
       "      <td>NaN</td>\n",
       "    </tr>\n",
       "  </tbody>\n",
       "</table>\n",
       "</div>"
      ],
      "text/plain": [
       "   JID Jcompany Jposition Jdesc Jlocation Jfunction Jkeywords Jtkey\n",
       "0  NaN      NaN       NaN   NaN       NaN       NaN       NaN   NaN"
      ]
     },
     "execution_count": 6,
     "metadata": {},
     "output_type": "execute_result"
    }
   ],
   "source": [
    "df = pd.DataFrame(index=[0], columns=df1.columns)\n",
    "df"
   ]
  },
  {
   "cell_type": "code",
   "execution_count": 7,
   "metadata": {},
   "outputs": [
    {
     "name": "stdout",
     "output_type": "stream",
     "text": [
      "Enter Job ID:12\n"
     ]
    },
    {
     "data": {
      "text/html": [
       "<div>\n",
       "<style scoped>\n",
       "    .dataframe tbody tr th:only-of-type {\n",
       "        vertical-align: middle;\n",
       "    }\n",
       "\n",
       "    .dataframe tbody tr th {\n",
       "        vertical-align: top;\n",
       "    }\n",
       "\n",
       "    .dataframe thead th {\n",
       "        text-align: right;\n",
       "    }\n",
       "</style>\n",
       "<table border=\"1\" class=\"dataframe\">\n",
       "  <thead>\n",
       "    <tr style=\"text-align: right;\">\n",
       "      <th></th>\n",
       "      <th>JID</th>\n",
       "      <th>Jcompany</th>\n",
       "      <th>Jposition</th>\n",
       "      <th>Jdesc</th>\n",
       "      <th>Jlocation</th>\n",
       "      <th>Jfunction</th>\n",
       "      <th>Jkeywords</th>\n",
       "      <th>Jtkey</th>\n",
       "    </tr>\n",
       "  </thead>\n",
       "  <tbody>\n",
       "    <tr>\n",
       "      <th>0</th>\n",
       "      <td>12</td>\n",
       "      <td>Freshworks</td>\n",
       "      <td>Senior Product Manager</td>\n",
       "      <td>Freshworks Inc. is the parent company behind t...</td>\n",
       "      <td>Chennai, India</td>\n",
       "      <td>Product Management</td>\n",
       "      <td>Customer-facing teams, leadership team,owner</td>\n",
       "      <td>NaN</td>\n",
       "    </tr>\n",
       "  </tbody>\n",
       "</table>\n",
       "</div>"
      ],
      "text/plain": [
       "  JID    Jcompany               Jposition  \\\n",
       "0  12  Freshworks  Senior Product Manager   \n",
       "\n",
       "                                               Jdesc       Jlocation  \\\n",
       "0  Freshworks Inc. is the parent company behind t...  Chennai, India   \n",
       "\n",
       "            Jfunction                                     Jkeywords Jtkey  \n",
       "0  Product Management  Customer-facing teams, leadership team,owner   NaN  "
      ]
     },
     "execution_count": 7,
     "metadata": {},
     "output_type": "execute_result"
    }
   ],
   "source": [
    "jobid = int(input(\"Enter Job ID:\"))\n",
    "for i in range(len(df1)):\n",
    "    if jobid == df1['JID'][i]:\n",
    "        for j in range(8):\n",
    "            df[df1.columns[j]][0] = df1[df1.columns[j]][i]\n",
    "df\n",
    "        "
   ]
  },
  {
   "cell_type": "code",
   "execution_count": null,
   "metadata": {},
   "outputs": [],
   "source": []
  },
  {
   "cell_type": "code",
   "execution_count": 8,
   "metadata": {},
   "outputs": [],
   "source": [
    "def text_process(mess):\n",
    "    \"\"\"\n",
    "    Takes in a string of text, then performs the following:\n",
    "    1. Remove all punctuation\n",
    "    2. Remove all stopwords\n",
    "    3. Returns a list of the cleaned text\n",
    "    \"\"\"\n",
    "    # Check characters to see if they are in punctuation\n",
    "    nopunc = [char for char in mess if char not in string.punctuation]\n",
    "\n",
    "    # Join the characters again to form the string.\n",
    "    nopunc = ''.join(nopunc)\n",
    "    \n",
    "    # Now just remove any stopwords\n",
    "    return [word for word in nopunc.split() if word.lower() not in stopwords.words('english')]"
   ]
  },
  {
   "cell_type": "code",
   "execution_count": 9,
   "metadata": {},
   "outputs": [
    {
     "data": {
      "text/plain": [
       "\"Freshworks Inc. is the parent company behind the suite of products which includes Freshdesk, Freshservice, Freshsales, Freshcaller, Freshteam, Freshchat, and Freshmarketer. The company’s suite of products is designed to work tightly together to increase collaboration and help teams better connect and communicate with their customers and co-workers. Founded in October 2010, Freshworks Inc. is backed by Accel, Tiger Global Management, CapitalG, and Sequoia Capital India. Freshworks has its HQ in San Bruno, California and global offices in India, UK, Australia, and Germany. The company's cloud-based suite of SaaS products is widely used by over 100,000 customers around the world including Honda, Bridgestone, Hugo Boss, University of Pennsylvania, Toshiba and Cisco.\\n\\nWe are looking to hire a smart product manager who is passionate about taking up ideas and bringing them to life. You will engage with our customer base directly, and decide the future of the product by working closely with key partners. You will also collaborate with marketing, sales, and support to ensure that word gets out to people and they get to see what you are building.\\n\\nResponsibilities\\nHelp in developing and implementing product vision and strategy.\\nMeet regularly with key customer-facing teams to collect and analyze user feedback to shape new product ideas and user requirements.\\nImplements usage tracking and analyze patterns to validate new feature requirements.\\nHave strong solution skills in translating customer needs to product functionalities.\\nWork with the leadership team in planning the product roadmap.\\nConvert ideas to prototypes and demonstrate them to the key partners.\\nCoordinate with the engineering team to plan and deliver features on time.\\nRepresent the company in product or domain-specific conferences and events.\\nStay on top of the market and competitions.\\nAct like an owner for the success of your product.\\n\\nRequirement\\nA minimum of 6+yrs experience in product management or similar role\\nA people-friendly person with extraordinary organizational and leadership skills\\nHave strong presentation skills\\nAbility to think creatively and solve the problem\\nFamiliarity with the agile development framework will be preferable.\\nPrior experience in development or program management will be a plus\\nSeniority Level\\nAssociate\\n\""
      ]
     },
     "execution_count": 9,
     "metadata": {},
     "output_type": "execute_result"
    }
   ],
   "source": [
    "df['Jdesc'][0]"
   ]
  },
  {
   "cell_type": "code",
   "execution_count": 19,
   "metadata": {},
   "outputs": [
    {
     "data": {
      "text/plain": [
       "['translating customer needs product functionalities. Work leadership team planning product roadmap. Convert ideas prototypes demonstrate key partners. Coordinate engineering team plan deliver features time. Represent company product domain-specific conferences events. Stay top market competitions. Act like owner success product. Requirement minimum 6+yrs experience product management similar role people-friendly person extraordinary organizational leadership strong presentation Ability think creatively solve problem Familiarity agile development framework preferable. Prior experience development program management plus Seniority Level Associate']"
      ]
     },
     "execution_count": 19,
     "metadata": {},
     "output_type": "execute_result"
    }
   ],
   "source": [
    "corpus=[' '.join(text_process(df['Jdesc'][0].split('skills')[1:]))]\n",
    "corpus"
   ]
  },
  {
   "cell_type": "code",
   "execution_count": null,
   "metadata": {},
   "outputs": [],
   "source": []
  },
  {
   "cell_type": "code",
   "execution_count": null,
   "metadata": {},
   "outputs": [],
   "source": []
  },
  {
   "cell_type": "code",
   "execution_count": 20,
   "metadata": {},
   "outputs": [
    {
     "name": "stdout",
     "output_type": "stream",
     "text": [
      "                    Bi-gram  Freq\n",
      "0      translating customer     1\n",
      "1            customer needs     1\n",
      "2             needs product     1\n",
      "3   product functionalities     1\n",
      "4      functionalities work     1\n",
      "5           work leadership     1\n",
      "6           leadership team     1\n",
      "7             team planning     1\n",
      "8          planning product     1\n",
      "9           product roadmap     1\n",
      "10          roadmap convert     1\n",
      "11            convert ideas     1\n",
      "12         ideas prototypes     1\n",
      "13   prototypes demonstrate     1\n",
      "14          demonstrate key     1\n",
      "15             key partners     1\n",
      "16      partners coordinate     1\n",
      "17   coordinate engineering     1\n",
      "18         engineering team     1\n",
      "19                team plan     1\n"
     ]
    },
    {
     "data": {
      "text/plain": [
       "[Text(0, 0, 'translating customer'),\n",
       " Text(0, 0, 'customer needs'),\n",
       " Text(0, 0, 'needs product'),\n",
       " Text(0, 0, 'product functionalities'),\n",
       " Text(0, 0, 'functionalities work'),\n",
       " Text(0, 0, 'work leadership'),\n",
       " Text(0, 0, 'leadership team'),\n",
       " Text(0, 0, 'team planning'),\n",
       " Text(0, 0, 'planning product'),\n",
       " Text(0, 0, 'product roadmap'),\n",
       " Text(0, 0, 'roadmap convert'),\n",
       " Text(0, 0, 'convert ideas'),\n",
       " Text(0, 0, 'ideas prototypes'),\n",
       " Text(0, 0, 'prototypes demonstrate'),\n",
       " Text(0, 0, 'demonstrate key'),\n",
       " Text(0, 0, 'key partners'),\n",
       " Text(0, 0, 'partners coordinate'),\n",
       " Text(0, 0, 'coordinate engineering'),\n",
       " Text(0, 0, 'engineering team'),\n",
       " Text(0, 0, 'team plan')]"
      ]
     },
     "execution_count": 20,
     "metadata": {},
     "output_type": "execute_result"
    },
    {
     "data": {
      "image/png": "[encoded data removed]",
      "text/plain": [
       "<Figure size 936x576 with 1 Axes>"
      ]
     },
     "metadata": {},
     "output_type": "display_data"
    }
   ],
   "source": [
    "##Creating a list of stop words and adding custom stopwords\n",
    "stop_words = set(stopwords.words(\"english\"))\n",
    "##Creating a list of custom stopwords\n",
    "new_words = [\"using\", \"show\", \"result\", \"large\", \"also\", \"iv\", \"one\", \"two\", \"new\", \"previously\", \"shown\"]\n",
    "stop_words = stop_words.union(new_words)\n",
    "\n",
    "#Most frequently occuring Bi-grams\n",
    "def get_top_n2_words(corpus, n=None):\n",
    "    vec1 = CountVectorizer(ngram_range=(2,2),  \n",
    "            max_features=2000).fit(corpus)\n",
    "    bag_of_words = vec1.transform(corpus)\n",
    "    sum_words = bag_of_words.sum(axis=0) \n",
    "    words_freq = [(word, sum_words[0, idx]) for word, idx in     \n",
    "                  vec1.vocabulary_.items()]\n",
    "    words_freq =sorted(words_freq, key = lambda x: x[1], \n",
    "                reverse=True)\n",
    "    return words_freq[:n]\n",
    "\n",
    "top2_words = get_top_n2_words(corpus, n=20)\n",
    "top2_df = pd.DataFrame(top2_words)\n",
    "top2_df.columns=[\"Bi-gram\", \"Freq\"]\n",
    "print(top2_df)\n",
    "#Barplot of most freq Bi-grams\n",
    "import seaborn as sns\n",
    "sns.set(rc={'figure.figsize':(13,8)})\n",
    "h=sns.barplot(x=\"Bi-gram\", y=\"Freq\", data=top2_df)\n",
    "h.set_xticklabels(h.get_xticklabels(), rotation=45)"
   ]
  },
  {
   "cell_type": "code",
   "execution_count": 25,
   "metadata": {},
   "outputs": [
    {
     "name": "stdout",
     "output_type": "stream",
     "text": [
      "                           Tri-gram  Freq\n",
      "0        translating customer needs     1\n",
      "1            customer needs product     1\n",
      "2     needs product functionalities     1\n",
      "3      product functionalities work     1\n",
      "4   functionalities work leadership     1\n",
      "5              work leadership team     1\n",
      "6          leadership team planning     1\n",
      "7             team planning product     1\n",
      "8          planning product roadmap     1\n",
      "9           product roadmap convert     1\n",
      "10            roadmap convert ideas     1\n",
      "11         convert ideas prototypes     1\n",
      "12     ideas prototypes demonstrate     1\n",
      "13       prototypes demonstrate key     1\n",
      "14         demonstrate key partners     1\n",
      "15          key partners coordinate     1\n",
      "16  partners coordinate engineering     1\n",
      "17      coordinate engineering team     1\n",
      "18            engineering team plan     1\n",
      "19                team plan deliver     1\n"
     ]
    },
    {
     "data": {
      "text/plain": [
       "[Text(0, 0, 'translating customer needs'),\n",
       " Text(0, 0, 'customer needs product'),\n",
       " Text(0, 0, 'needs product functionalities'),\n",
       " Text(0, 0, 'product functionalities work'),\n",
       " Text(0, 0, 'functionalities work leadership'),\n",
       " Text(0, 0, 'work leadership team'),\n",
       " Text(0, 0, 'leadership team planning'),\n",
       " Text(0, 0, 'team planning product'),\n",
       " Text(0, 0, 'planning product roadmap'),\n",
       " Text(0, 0, 'product roadmap convert'),\n",
       " Text(0, 0, 'roadmap convert ideas'),\n",
       " Text(0, 0, 'convert ideas prototypes'),\n",
       " Text(0, 0, 'ideas prototypes demonstrate'),\n",
       " Text(0, 0, 'prototypes demonstrate key'),\n",
       " Text(0, 0, 'demonstrate key partners'),\n",
       " Text(0, 0, 'key partners coordinate'),\n",
       " Text(0, 0, 'partners coordinate engineering'),\n",
       " Text(0, 0, 'coordinate engineering team'),\n",
       " Text(0, 0, 'engineering team plan'),\n",
       " Text(0, 0, 'team plan deliver')]"
      ]
     },
     "execution_count": 25,
     "metadata": {},
     "output_type": "execute_result"
    },
    {
     "data": {
      "image/png": "[encoded data removed]",
      "text/plain": [
       "<Figure size 936x576 with 1 Axes>"
      ]
     },
     "metadata": {},
     "output_type": "display_data"
    }
   ],
   "source": [
    "#Most frequently occuring Tri-grams\n",
    "def get_top_n3_words(corpus, n=None):\n",
    "    vec1 = CountVectorizer(ngram_range=(3,3), \n",
    "           max_features=2000).fit(corpus)\n",
    "    bag_of_words = vec1.transform(corpus)\n",
    "    sum_words = bag_of_words.sum(axis=0) \n",
    "    words_freq = [(word, sum_words[0, idx]) for word, idx in     \n",
    "                  vec1.vocabulary_.items()]\n",
    "    words_freq =sorted(words_freq, key = lambda x: x[1], \n",
    "                reverse=True)\n",
    "    return words_freq[:n]\n",
    "top3_words = get_top_n3_words(corpus, n=20)\n",
    "top3_df = pd.DataFrame(top3_words)\n",
    "top3_df.columns=[\"Tri-gram\", \"Freq\"]\n",
    "print(top3_df)\n",
    "#Barplot of most freq Tri-grams\n",
    "import seaborn as sns\n",
    "sns.set(rc={'figure.figsize':(13,8)})\n",
    "j=sns.barplot(x=\"Tri-gram\", y=\"Freq\", data=top3_df)\n",
    "j.set_xticklabels(j.get_xticklabels(), rotation=45)\n"
   ]
  },
  {
   "cell_type": "code",
   "execution_count": 22,
   "metadata": {},
   "outputs": [
    {
     "data": {
      "text/html": [
       "<div>\n",
       "<style scoped>\n",
       "    .dataframe tbody tr th:only-of-type {\n",
       "        vertical-align: middle;\n",
       "    }\n",
       "\n",
       "    .dataframe tbody tr th {\n",
       "        vertical-align: top;\n",
       "    }\n",
       "\n",
       "    .dataframe thead th {\n",
       "        text-align: right;\n",
       "    }\n",
       "</style>\n",
       "<table border=\"1\" class=\"dataframe\">\n",
       "  <thead>\n",
       "    <tr style=\"text-align: right;\">\n",
       "      <th></th>\n",
       "      <th>Company Name</th>\n",
       "      <th>Job Location</th>\n",
       "      <th>Headquarter</th>\n",
       "      <th>Company Details</th>\n",
       "      <th>Job Title</th>\n",
       "      <th>Roles</th>\n",
       "      <th>Skills</th>\n",
       "      <th>PHM</th>\n",
       "    </tr>\n",
       "  </thead>\n",
       "  <tbody>\n",
       "    <tr>\n",
       "      <th>0</th>\n",
       "      <td>NaN</td>\n",
       "      <td>NaN</td>\n",
       "      <td>NaN</td>\n",
       "      <td>NaN</td>\n",
       "      <td>NaN</td>\n",
       "      <td>NaN</td>\n",
       "      <td>NaN</td>\n",
       "      <td>NaN</td>\n",
       "    </tr>\n",
       "  </tbody>\n",
       "</table>\n",
       "</div>"
      ],
      "text/plain": [
       "  Company Name Job Location Headquarter Company Details Job Title Roles  \\\n",
       "0          NaN          NaN         NaN             NaN       NaN   NaN   \n",
       "\n",
       "  Skills  PHM  \n",
       "0    NaN  NaN  "
      ]
     },
     "execution_count": 22,
     "metadata": {},
     "output_type": "execute_result"
    }
   ],
   "source": [
    "step2a_df = pd.DataFrame(index=[0],columns=['Company Name', 'Job Location', 'Headquarter', 'Company Details', 'Job Title', 'Roles', 'Skills', 'PHM'])\n",
    "step2a_df"
   ]
  },
  {
   "cell_type": "code",
   "execution_count": 23,
   "metadata": {},
   "outputs": [],
   "source": [
    "for i in df:\n",
    "    if 'company' in i:\n",
    "        step2a_df['Company Name'][0] = df[i][0]\n",
    "    if 'location' in i:\n",
    "        step2a_df['Job Location'][0] = df[i][0]\n",
    "    if 'role' in i or 'function' in i:\n",
    "        step2a_df['Roles'][0] = df[i][0]\n",
    "    if 'position' in i or 'title' in i:\n",
    "        step2a_df['Job Title'][0] = df[i][0]\n",
    "    if 'skills' in i:\n",
    "        step2a_df['Skills'][0] = df[i][0]\n",
    "    #if 'desc' in i or 'description' in i:\n",
    "        #step2a_df['Skills'][0] = df[i][0]"
   ]
  },
  {
   "cell_type": "code",
   "execution_count": 42,
   "metadata": {},
   "outputs": [
    {
     "data": {
      "text/html": [
       "<div>\n",
       "<style scoped>\n",
       "    .dataframe tbody tr th:only-of-type {\n",
       "        vertical-align: middle;\n",
       "    }\n",
       "\n",
       "    .dataframe tbody tr th {\n",
       "        vertical-align: top;\n",
       "    }\n",
       "\n",
       "    .dataframe thead th {\n",
       "        text-align: right;\n",
       "    }\n",
       "</style>\n",
       "<table border=\"1\" class=\"dataframe\">\n",
       "  <thead>\n",
       "    <tr style=\"text-align: right;\">\n",
       "      <th></th>\n",
       "      <th>Company Name</th>\n",
       "      <th>Job Location</th>\n",
       "      <th>Headquarter</th>\n",
       "      <th>Company Details</th>\n",
       "      <th>Job Title</th>\n",
       "      <th>Roles</th>\n",
       "      <th>Skills</th>\n",
       "      <th>PHM</th>\n",
       "    </tr>\n",
       "  </thead>\n",
       "  <tbody>\n",
       "    <tr>\n",
       "      <th>0</th>\n",
       "      <td>Freshworks</td>\n",
       "      <td>Chennai, India</td>\n",
       "      <td>NaN</td>\n",
       "      <td>NaN</td>\n",
       "      <td>Senior Product Manager</td>\n",
       "      <td>Product Management</td>\n",
       "      <td>NaN</td>\n",
       "      <td>NaN</td>\n",
       "    </tr>\n",
       "  </tbody>\n",
       "</table>\n",
       "</div>"
      ],
      "text/plain": [
       "  Company Name    Job Location Headquarter Company Details  \\\n",
       "0   Freshworks  Chennai, India         NaN             NaN   \n",
       "\n",
       "                Job Title               Roles Skills  PHM  \n",
       "0  Senior Product Manager  Product Management    NaN  NaN  "
      ]
     },
     "execution_count": 42,
     "metadata": {},
     "output_type": "execute_result"
    }
   ],
   "source": [
    "step2a_df"
   ]
  },
  {
   "cell_type": "markdown",
   "metadata": {},
   "source": [
    "## Web Scrapping"
   ]
  },
  {
   "cell_type": "code",
   "execution_count": 32,
   "metadata": {},
   "outputs": [],
   "source": [
    "#import ipywidgets as widgets\n",
    "#company_name = widgets.Dropdown(step2a_df['Company Name'])"
   ]
  },
  {
   "cell_type": "code",
   "execution_count": 33,
   "metadata": {},
   "outputs": [],
   "source": [
    "browser = webdriver.Chrome('driver/chromedriver.exe')"
   ]
  },
  {
   "cell_type": "code",
   "execution_count": 34,
   "metadata": {},
   "outputs": [],
   "source": [
    "browser.get('https://www.linkedin.com/uas/login')"
   ]
  },
  {
   "cell_type": "code",
   "execution_count": 35,
   "metadata": {},
   "outputs": [],
   "source": [
    "file = open('config.txt')\n",
    "lines = file.readlines()\n",
    "username = lines[0]\n",
    "password = lines[1]"
   ]
  },
  {
   "cell_type": "code",
   "execution_count": 36,
   "metadata": {},
   "outputs": [],
   "source": [
    "elementID = browser.find_element_by_id('username')\n",
    "elementID.send_keys(username)"
   ]
  },
  {
   "cell_type": "code",
   "execution_count": 37,
   "metadata": {},
   "outputs": [],
   "source": [
    "elementID = browser.find_element_by_id('password')\n",
    "elementID.send_keys(password)"
   ]
  },
  {
   "cell_type": "code",
   "execution_count": 38,
   "metadata": {},
   "outputs": [],
   "source": [
    "elementID.submit()"
   ]
  },
  {
   "cell_type": "code",
   "execution_count": 44,
   "metadata": {},
   "outputs": [
    {
     "name": "stdout",
     "output_type": "stream",
     "text": [
      "Enter Company Name:Sapient\n"
     ]
    }
   ],
   "source": [
    "company_name = df['Jcompany']\n",
    "#company_name='Freshworks'\n",
    "fullLink = 'https://www.linkedin.com/search/results/companies/?keywords='+company_name\n",
    "browser.get(fullLink)"
   ]
  },
  {
   "cell_type": "code",
   "execution_count": 45,
   "metadata": {},
   "outputs": [],
   "source": [
    "element = browser.find_element_by_link_text(company_name) \n",
    "element.click() \n",
    "time.sleep(5)"
   ]
  },
  {
   "cell_type": "code",
   "execution_count": 46,
   "metadata": {},
   "outputs": [],
   "source": [
    "browser.execute_script(\"window.scrollTo(0, 500)\") \n",
    "element = browser.find_element_by_link_text(\"See all\") \n",
    "element.click() "
   ]
  },
  {
   "cell_type": "markdown",
   "metadata": {},
   "source": [
    "# Company Details"
   ]
  },
  {
   "cell_type": "code",
   "execution_count": 47,
   "metadata": {},
   "outputs": [],
   "source": [
    "time.sleep(5)\n",
    "company_details = browser.find_element_by_class_name('break-words').text\n",
    "step2a_df['Company Details']= company_details"
   ]
  },
  {
   "cell_type": "markdown",
   "metadata": {},
   "source": [
    "# Company Headquarters"
   ]
  },
  {
   "cell_type": "code",
   "execution_count": 48,
   "metadata": {},
   "outputs": [],
   "source": [
    "company_headquarters = browser.find_element_by_class_name('mb3').find_element_by_class_name('overflow-hidden').find_element_by_xpath('(//dd[5])').text\n",
    "step2a_df['Headquarter']=company_headquarters"
   ]
  },
  {
   "cell_type": "code",
   "execution_count": 39,
   "metadata": {},
   "outputs": [
    {
     "data": {
      "text/html": [
       "<div>\n",
       "<style scoped>\n",
       "    .dataframe tbody tr th:only-of-type {\n",
       "        vertical-align: middle;\n",
       "    }\n",
       "\n",
       "    .dataframe tbody tr th {\n",
       "        vertical-align: top;\n",
       "    }\n",
       "\n",
       "    .dataframe thead th {\n",
       "        text-align: right;\n",
       "    }\n",
       "</style>\n",
       "<table border=\"1\" class=\"dataframe\">\n",
       "  <thead>\n",
       "    <tr style=\"text-align: right;\">\n",
       "      <th></th>\n",
       "      <th>Company Name</th>\n",
       "      <th>Job Location</th>\n",
       "      <th>Headquarter</th>\n",
       "      <th>Company Details</th>\n",
       "      <th>Job Title</th>\n",
       "      <th>Roles</th>\n",
       "      <th>Skills</th>\n",
       "      <th>PHM</th>\n",
       "    </tr>\n",
       "  </thead>\n",
       "  <tbody>\n",
       "    <tr>\n",
       "      <th>0</th>\n",
       "      <td>NaN</td>\n",
       "      <td>NaN</td>\n",
       "      <td>NaN</td>\n",
       "      <td>NaN</td>\n",
       "      <td>NaN</td>\n",
       "      <td>NaN</td>\n",
       "      <td>NaN</td>\n",
       "      <td>NaN</td>\n",
       "    </tr>\n",
       "  </tbody>\n",
       "</table>\n",
       "</div>"
      ],
      "text/plain": [
       "  Company Name Job Location Headquarter Company Details Job Title Roles  \\\n",
       "0          NaN          NaN         NaN             NaN       NaN   NaN   \n",
       "\n",
       "  Skills  PHM  \n",
       "0    NaN  NaN  "
      ]
     },
     "execution_count": 39,
     "metadata": {},
     "output_type": "execute_result"
    }
   ],
   "source": [
    "PHM = pd.DataFrame(pd.read_csv('C:/Users/Divya/PHM.csv'))\n",
    "for i in range(len(PHM['Interviewee'])):\n",
    "    if PHM['Interviewee'][i] == step2a_df['Job Title'][0]:\n",
    "        step2a_df['PHM'][0]=PHM['Hiring Manager'][i]\n",
    "step2a_df"
   ]
  },
  {
   "cell_type": "markdown",
   "metadata": {},
   "source": [
    "# Potential Hiring Manager"
   ]
  },
  {
   "cell_type": "code",
   "execution_count": 50,
   "metadata": {},
   "outputs": [],
   "source": [
    "def check_empty(data):\n",
    "    if data == '':\n",
    "        return ''\n",
    "    else:\n",
    "        return data + '%2C'"
   ]
  },
  {
   "cell_type": "code",
   "execution_count": 51,
   "metadata": {},
   "outputs": [],
   "source": [
    "PHM = step2a_df['PHM'][0]\n",
    "location = step2a_df['Job Location'][0]\n",
    "domain = step2a_df['Roles'][0]\n",
    "temp_url = check_empty(PHM) + check_empty(location) + check_empty(domain)\n",
    "fullLink = browser.current_url[:-6] + '/people/?keywords=' +  temp_url[:-3]\n",
    "browser.get(fullLink)"
   ]
  },
  {
   "cell_type": "code",
   "execution_count": 52,
   "metadata": {},
   "outputs": [
    {
     "data": {
      "text/html": [
       "<div>\n",
       "<style scoped>\n",
       "    .dataframe tbody tr th:only-of-type {\n",
       "        vertical-align: middle;\n",
       "    }\n",
       "\n",
       "    .dataframe tbody tr th {\n",
       "        vertical-align: top;\n",
       "    }\n",
       "\n",
       "    .dataframe thead th {\n",
       "        text-align: right;\n",
       "    }\n",
       "</style>\n",
       "<table border=\"1\" class=\"dataframe\">\n",
       "  <thead>\n",
       "    <tr style=\"text-align: right;\">\n",
       "      <th></th>\n",
       "      <th>Employee Name</th>\n",
       "      <th>Job Title</th>\n",
       "      <th>Job Location</th>\n",
       "      <th>About</th>\n",
       "    </tr>\n",
       "  </thead>\n",
       "  <tbody>\n",
       "    <tr>\n",
       "      <th>0</th>\n",
       "      <td>NaN</td>\n",
       "      <td>NaN</td>\n",
       "      <td>NaN</td>\n",
       "      <td>NaN</td>\n",
       "    </tr>\n",
       "    <tr>\n",
       "      <th>1</th>\n",
       "      <td>NaN</td>\n",
       "      <td>NaN</td>\n",
       "      <td>NaN</td>\n",
       "      <td>NaN</td>\n",
       "    </tr>\n",
       "    <tr>\n",
       "      <th>2</th>\n",
       "      <td>NaN</td>\n",
       "      <td>NaN</td>\n",
       "      <td>NaN</td>\n",
       "      <td>NaN</td>\n",
       "    </tr>\n",
       "    <tr>\n",
       "      <th>3</th>\n",
       "      <td>NaN</td>\n",
       "      <td>NaN</td>\n",
       "      <td>NaN</td>\n",
       "      <td>NaN</td>\n",
       "    </tr>\n",
       "    <tr>\n",
       "      <th>4</th>\n",
       "      <td>NaN</td>\n",
       "      <td>NaN</td>\n",
       "      <td>NaN</td>\n",
       "      <td>NaN</td>\n",
       "    </tr>\n",
       "  </tbody>\n",
       "</table>\n",
       "</div>"
      ],
      "text/plain": [
       "  Employee Name Job Title Job Location About\n",
       "0           NaN       NaN          NaN   NaN\n",
       "1           NaN       NaN          NaN   NaN\n",
       "2           NaN       NaN          NaN   NaN\n",
       "3           NaN       NaN          NaN   NaN\n",
       "4           NaN       NaN          NaN   NaN"
      ]
     },
     "execution_count": 52,
     "metadata": {},
     "output_type": "execute_result"
    }
   ],
   "source": [
    "PHM_df = pd.DataFrame(index=[i for i in range(10)],columns=['Employee Name', 'Job Title', 'Job Location', 'About'])\n",
    "PHM_df.head()"
   ]
  },
  {
   "cell_type": "code",
   "execution_count": 53,
   "metadata": {},
   "outputs": [],
   "source": [
    "current_url = browser.current_url\n",
    "for i in range(1,14):\n",
    "    try:    \n",
    "        if i > 12:\n",
    "            browser.execute_script(\"window.scrollTo(0, 1500)\")\n",
    "            time.sleep(3)\n",
    "        browser.find_element_by_class_name('org-people-profiles-module__profile-list').find_element_by_xpath('(//li[@class=\"org-people-profiles-module__profile-item\"]['+str(i)+'])').find_element_by_class_name('org-people-profile-card__profile-info').click()\n",
    "        time.sleep(3)\n",
    "        PHM_df['Employee Name'][i-1] = browser.find_element_by_class_name('pv-top-card--list').find_element_by_tag_name('li').text\n",
    "        PHM_df['Job Title'][i-1] = browser.find_element_by_class_name('ph5').find_element_by_class_name('mt2').find_element_by_class_name('mt1').text\n",
    "        loc = browser.find_element_by_class_name('pv-top-card--list-bullet').find_element_by_tag_name('li').text\n",
    "        if \"connection\" in loc:\n",
    "            PHM_df['Job Location'][i-1] = np.nan\n",
    "        else:\n",
    "            PHM_df['Job Location'][i-1] = loc\n",
    "        PHM_df['About'][i-1] = browser.find_element_by_class_name('pv-about__summary-text').text\n",
    "    except:\n",
    "        pass\n",
    "    browser.get(current_url)\n",
    "\n"
   ]
  },
  {
   "cell_type": "code",
   "execution_count": 54,
   "metadata": {},
   "outputs": [
    {
     "data": {
      "text/html": [
       "<div>\n",
       "<style scoped>\n",
       "    .dataframe tbody tr th:only-of-type {\n",
       "        vertical-align: middle;\n",
       "    }\n",
       "\n",
       "    .dataframe tbody tr th {\n",
       "        vertical-align: top;\n",
       "    }\n",
       "\n",
       "    .dataframe thead th {\n",
       "        text-align: right;\n",
       "    }\n",
       "</style>\n",
       "<table border=\"1\" class=\"dataframe\">\n",
       "  <thead>\n",
       "    <tr style=\"text-align: right;\">\n",
       "      <th></th>\n",
       "      <th>Employee Name</th>\n",
       "      <th>Job Title</th>\n",
       "      <th>Job Location</th>\n",
       "      <th>About</th>\n",
       "    </tr>\n",
       "  </thead>\n",
       "  <tbody>\n",
       "    <tr>\n",
       "      <th>0</th>\n",
       "      <td>NaN</td>\n",
       "      <td>NaN</td>\n",
       "      <td>NaN</td>\n",
       "      <td>NaN</td>\n",
       "    </tr>\n",
       "    <tr>\n",
       "      <th>1</th>\n",
       "      <td>NaN</td>\n",
       "      <td>NaN</td>\n",
       "      <td>NaN</td>\n",
       "      <td>NaN</td>\n",
       "    </tr>\n",
       "    <tr>\n",
       "      <th>2</th>\n",
       "      <td>NaN</td>\n",
       "      <td>NaN</td>\n",
       "      <td>NaN</td>\n",
       "      <td>NaN</td>\n",
       "    </tr>\n",
       "    <tr>\n",
       "      <th>3</th>\n",
       "      <td>NaN</td>\n",
       "      <td>NaN</td>\n",
       "      <td>NaN</td>\n",
       "      <td>NaN</td>\n",
       "    </tr>\n",
       "    <tr>\n",
       "      <th>4</th>\n",
       "      <td>NaN</td>\n",
       "      <td>NaN</td>\n",
       "      <td>NaN</td>\n",
       "      <td>NaN</td>\n",
       "    </tr>\n",
       "    <tr>\n",
       "      <th>5</th>\n",
       "      <td>NaN</td>\n",
       "      <td>NaN</td>\n",
       "      <td>NaN</td>\n",
       "      <td>NaN</td>\n",
       "    </tr>\n",
       "    <tr>\n",
       "      <th>6</th>\n",
       "      <td>NaN</td>\n",
       "      <td>NaN</td>\n",
       "      <td>NaN</td>\n",
       "      <td>NaN</td>\n",
       "    </tr>\n",
       "    <tr>\n",
       "      <th>7</th>\n",
       "      <td>NaN</td>\n",
       "      <td>NaN</td>\n",
       "      <td>NaN</td>\n",
       "      <td>NaN</td>\n",
       "    </tr>\n",
       "    <tr>\n",
       "      <th>8</th>\n",
       "      <td>NaN</td>\n",
       "      <td>NaN</td>\n",
       "      <td>NaN</td>\n",
       "      <td>NaN</td>\n",
       "    </tr>\n",
       "    <tr>\n",
       "      <th>9</th>\n",
       "      <td>NaN</td>\n",
       "      <td>NaN</td>\n",
       "      <td>NaN</td>\n",
       "      <td>NaN</td>\n",
       "    </tr>\n",
       "  </tbody>\n",
       "</table>\n",
       "</div>"
      ],
      "text/plain": [
       "  Employee Name Job Title Job Location About\n",
       "0           NaN       NaN          NaN   NaN\n",
       "1           NaN       NaN          NaN   NaN\n",
       "2           NaN       NaN          NaN   NaN\n",
       "3           NaN       NaN          NaN   NaN\n",
       "4           NaN       NaN          NaN   NaN\n",
       "5           NaN       NaN          NaN   NaN\n",
       "6           NaN       NaN          NaN   NaN\n",
       "7           NaN       NaN          NaN   NaN\n",
       "8           NaN       NaN          NaN   NaN\n",
       "9           NaN       NaN          NaN   NaN"
      ]
     },
     "execution_count": 54,
     "metadata": {},
     "output_type": "execute_result"
    }
   ],
   "source": [
    "PHM_df"
   ]
  },
  {
   "cell_type": "code",
   "execution_count": 55,
   "metadata": {},
   "outputs": [],
   "source": [
    "PHM_df=PHM_df.dropna(how='all')\n",
    "PHM_df = PHM_df.reset_index(drop=True)"
   ]
  },
  {
   "cell_type": "code",
   "execution_count": 56,
   "metadata": {},
   "outputs": [
    {
     "data": {
      "text/html": [
       "<div>\n",
       "<style scoped>\n",
       "    .dataframe tbody tr th:only-of-type {\n",
       "        vertical-align: middle;\n",
       "    }\n",
       "\n",
       "    .dataframe tbody tr th {\n",
       "        vertical-align: top;\n",
       "    }\n",
       "\n",
       "    .dataframe thead th {\n",
       "        text-align: right;\n",
       "    }\n",
       "</style>\n",
       "<table border=\"1\" class=\"dataframe\">\n",
       "  <thead>\n",
       "    <tr style=\"text-align: right;\">\n",
       "      <th></th>\n",
       "      <th>scores</th>\n",
       "    </tr>\n",
       "  </thead>\n",
       "  <tbody>\n",
       "  </tbody>\n",
       "</table>\n",
       "</div>"
      ],
      "text/plain": [
       "Empty DataFrame\n",
       "Columns: [scores]\n",
       "Index: []"
      ]
     },
     "execution_count": 56,
     "metadata": {},
     "output_type": "execute_result"
    }
   ],
   "source": [
    "scores_df = pd.DataFrame({'scores':[0] * len(PHM_df)})\n",
    "scores_df.head()"
   ]
  },
  {
   "cell_type": "code",
   "execution_count": 57,
   "metadata": {},
   "outputs": [],
   "source": [
    "for i in range(len(PHM_df)):\n",
    "    #Scoring based on About Section\n",
    "    if str(np.nan) in str(PHM_df['About'][i]):\n",
    "        scores_df['scores'][i] = 1\n",
    "    elif 'hiring' or 'hire' or 'recruiting' or 'recruitment' in str(PHM_df['About'][i]):\n",
    "        scores_df['scores'][i] = 3\n",
    "    else:\n",
    "        scores_df['scores'][i] = 2\n",
    "        \n",
    "    #Scoring based on Location \n",
    "    if str(np.nan) in str(PHM_df['Job Location'][i]):\n",
    "        scores_df['scores'][i] += 1\n",
    "    elif 'chennai' in str(PHM_df['Job Location'][i]).lower(): #take chennai from dataframe on employee use split(',')[0] to take only chennai\n",
    "        scores_df['scores'][i] += 3\n",
    "    else:\n",
    "        scores_df['scores'][i] += 2\n",
    "    \n",
    "    #Scoring based on domain\n",
    "    if str(np.nan) in str(PHM_df['Job Title'][i]):\n",
    "        scores_df['scores'][i] += 1\n",
    "    elif 'Product Management' in str(PHM_df['Job Title'][i]): #take prodcut management from dataframe on employee\n",
    "        scores_df['scores'][i] += 3\n",
    "    else:\n",
    "        scores_df['scores'][i] += 2\n",
    "    "
   ]
  },
  {
   "cell_type": "code",
   "execution_count": 58,
   "metadata": {},
   "outputs": [
    {
     "data": {
      "text/html": [
       "<div>\n",
       "<style scoped>\n",
       "    .dataframe tbody tr th:only-of-type {\n",
       "        vertical-align: middle;\n",
       "    }\n",
       "\n",
       "    .dataframe tbody tr th {\n",
       "        vertical-align: top;\n",
       "    }\n",
       "\n",
       "    .dataframe thead th {\n",
       "        text-align: right;\n",
       "    }\n",
       "</style>\n",
       "<table border=\"1\" class=\"dataframe\">\n",
       "  <thead>\n",
       "    <tr style=\"text-align: right;\">\n",
       "      <th></th>\n",
       "      <th>scores</th>\n",
       "    </tr>\n",
       "  </thead>\n",
       "  <tbody>\n",
       "  </tbody>\n",
       "</table>\n",
       "</div>"
      ],
      "text/plain": [
       "Empty DataFrame\n",
       "Columns: [scores]\n",
       "Index: []"
      ]
     },
     "execution_count": 58,
     "metadata": {},
     "output_type": "execute_result"
    }
   ],
   "source": [
    "scores_df\n"
   ]
  },
  {
   "cell_type": "code",
   "execution_count": 59,
   "metadata": {},
   "outputs": [
    {
     "data": {
      "text/html": [
       "<div>\n",
       "<style scoped>\n",
       "    .dataframe tbody tr th:only-of-type {\n",
       "        vertical-align: middle;\n",
       "    }\n",
       "\n",
       "    .dataframe tbody tr th {\n",
       "        vertical-align: top;\n",
       "    }\n",
       "\n",
       "    .dataframe thead th {\n",
       "        text-align: right;\n",
       "    }\n",
       "</style>\n",
       "<table border=\"1\" class=\"dataframe\">\n",
       "  <thead>\n",
       "    <tr style=\"text-align: right;\">\n",
       "      <th></th>\n",
       "      <th>scores</th>\n",
       "    </tr>\n",
       "  </thead>\n",
       "  <tbody>\n",
       "  </tbody>\n",
       "</table>\n",
       "</div>"
      ],
      "text/plain": [
       "Empty DataFrame\n",
       "Columns: [scores]\n",
       "Index: []"
      ]
     },
     "execution_count": 59,
     "metadata": {},
     "output_type": "execute_result"
    }
   ],
   "source": [
    "scores_df.sort_values(by=['scores'], inplace=True, ascending=False)\n",
    "scores_df"
   ]
  },
  {
   "cell_type": "code",
   "execution_count": 60,
   "metadata": {},
   "outputs": [
    {
     "data": {
      "text/html": [
       "<div>\n",
       "<style scoped>\n",
       "    .dataframe tbody tr th:only-of-type {\n",
       "        vertical-align: middle;\n",
       "    }\n",
       "\n",
       "    .dataframe tbody tr th {\n",
       "        vertical-align: top;\n",
       "    }\n",
       "\n",
       "    .dataframe thead th {\n",
       "        text-align: right;\n",
       "    }\n",
       "</style>\n",
       "<table border=\"1\" class=\"dataframe\">\n",
       "  <thead>\n",
       "    <tr style=\"text-align: right;\">\n",
       "      <th></th>\n",
       "      <th>Employee Name</th>\n",
       "      <th>Job Title</th>\n",
       "      <th>Job Location</th>\n",
       "      <th>About</th>\n",
       "    </tr>\n",
       "  </thead>\n",
       "  <tbody>\n",
       "  </tbody>\n",
       "</table>\n",
       "</div>"
      ],
      "text/plain": [
       "Empty DataFrame\n",
       "Columns: [Employee Name, Job Title, Job Location, About]\n",
       "Index: []"
      ]
     },
     "execution_count": 60,
     "metadata": {},
     "output_type": "execute_result"
    }
   ],
   "source": [
    "#Top 3 PHM's\n",
    "top3 = scores_df.index.values[:3]\n",
    "top3_df = pd.DataFrame(columns=['Employee Name', 'Job Title', 'Job Location', 'About'])\n",
    "for i in range(len(top3)):\n",
    "    top3_df  = top3_df.append(PHM_df.iloc[top3[i]])\n",
    "top3_df = top3_df.reset_index(drop=True)\n",
    "top3_df"
   ]
  },
  {
   "cell_type": "code",
   "execution_count": null,
   "metadata": {},
   "outputs": [],
   "source": []
  },
  {
   "cell_type": "code",
   "execution_count": null,
   "metadata": {},
   "outputs": [],
   "source": []
  }
 ],
 "metadata": {
  "kernelspec": {
   "display_name": "Python 3",
   "language": "python",
   "name": "python3"
  },
  "language_info": {
   "codemirror_mode": {
    "name": "ipython",
    "version": 3
   },
   "file_extension": ".py",
   "mimetype": "text/x-python",
   "name": "python",
   "nbconvert_exporter": "python",
   "pygments_lexer": "ipython3",
   "version": "3.7.6"
  }
 },
 "nbformat": 4,
 "nbformat_minor": 4
}
